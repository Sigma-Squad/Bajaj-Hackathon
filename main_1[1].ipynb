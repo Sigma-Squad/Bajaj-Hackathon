{
 "cells": [
  {
   "cell_type": "markdown",
   "id": "fac7b64f-564b-4498-808d-eedb90504433",
   "metadata": {},
   "source": [
    "Ingesting PDF"
   ]
  },
  {
   "cell_type": "code",
   "execution_count": 1,
   "id": "c60328fa-08b1-47c8-a9c2-0fe17777a91c",
   "metadata": {},
   "outputs": [
    {
     "name": "stdout",
     "output_type": "stream",
     "text": [
      "Requirement already satisfied: langchain in d:\\coding\\python\\lib\\site-packages (0.3.26)\n",
      "Requirement already satisfied: langchain-core<1.0.0,>=0.3.66 in d:\\coding\\python\\lib\\site-packages (from langchain) (0.3.72)\n",
      "Requirement already satisfied: langchain-text-splitters<1.0.0,>=0.3.8 in d:\\coding\\python\\lib\\site-packages (from langchain) (0.3.8)\n",
      "Requirement already satisfied: langsmith>=0.1.17 in d:\\coding\\python\\lib\\site-packages (from langchain) (0.4.7)\n",
      "Requirement already satisfied: pydantic<3.0.0,>=2.7.4 in d:\\coding\\python\\lib\\site-packages (from langchain) (2.11.7)\n",
      "Requirement already satisfied: SQLAlchemy<3,>=1.4 in d:\\coding\\python\\lib\\site-packages (from langchain) (2.0.41)\n",
      "Requirement already satisfied: requests<3,>=2 in d:\\coding\\python\\lib\\site-packages (from langchain) (2.32.3)\n",
      "Requirement already satisfied: PyYAML>=5.3 in d:\\coding\\python\\lib\\site-packages (from langchain) (6.0.2)\n",
      "Requirement already satisfied: tenacity!=8.4.0,<10.0.0,>=8.1.0 in d:\\coding\\python\\lib\\site-packages (from langchain-core<1.0.0,>=0.3.66->langchain) (9.1.2)\n",
      "Requirement already satisfied: jsonpatch<2.0,>=1.33 in d:\\coding\\python\\lib\\site-packages (from langchain-core<1.0.0,>=0.3.66->langchain) (1.33)\n",
      "Requirement already satisfied: typing-extensions>=4.7 in d:\\coding\\python\\lib\\site-packages (from langchain-core<1.0.0,>=0.3.66->langchain) (4.12.2)\n",
      "Requirement already satisfied: packaging>=23.2 in d:\\coding\\python\\lib\\site-packages (from langchain-core<1.0.0,>=0.3.66->langchain) (24.2)\n",
      "Requirement already satisfied: jsonpointer>=1.9 in d:\\coding\\python\\lib\\site-packages (from jsonpatch<2.0,>=1.33->langchain-core<1.0.0,>=0.3.66->langchain) (3.0.0)\n",
      "Requirement already satisfied: annotated-types>=0.6.0 in d:\\coding\\python\\lib\\site-packages (from pydantic<3.0.0,>=2.7.4->langchain) (0.7.0)\n",
      "Requirement already satisfied: pydantic-core==2.33.2 in d:\\coding\\python\\lib\\site-packages (from pydantic<3.0.0,>=2.7.4->langchain) (2.33.2)\n",
      "Requirement already satisfied: typing-inspection>=0.4.0 in d:\\coding\\python\\lib\\site-packages (from pydantic<3.0.0,>=2.7.4->langchain) (0.4.1)\n",
      "Requirement already satisfied: charset-normalizer<4,>=2 in d:\\coding\\python\\lib\\site-packages (from requests<3,>=2->langchain) (3.4.1)\n",
      "Requirement already satisfied: idna<4,>=2.5 in d:\\coding\\python\\lib\\site-packages (from requests<3,>=2->langchain) (3.10)\n",
      "Requirement already satisfied: urllib3<3,>=1.21.1 in d:\\coding\\python\\lib\\site-packages (from requests<3,>=2->langchain) (2.3.0)\n",
      "Requirement already satisfied: certifi>=2017.4.17 in d:\\coding\\python\\lib\\site-packages (from requests<3,>=2->langchain) (2025.1.31)\n",
      "Requirement already satisfied: greenlet>=1 in d:\\coding\\python\\lib\\site-packages (from SQLAlchemy<3,>=1.4->langchain) (3.2.3)\n",
      "Requirement already satisfied: httpx<1,>=0.23.0 in d:\\coding\\python\\lib\\site-packages (from langsmith>=0.1.17->langchain) (0.28.1)\n",
      "Requirement already satisfied: orjson<4.0.0,>=3.9.14 in d:\\coding\\python\\lib\\site-packages (from langsmith>=0.1.17->langchain) (3.11.0)\n",
      "Requirement already satisfied: requests-toolbelt<2.0.0,>=1.0.0 in d:\\coding\\python\\lib\\site-packages (from langsmith>=0.1.17->langchain) (1.0.0)\n",
      "Requirement already satisfied: zstandard<0.24.0,>=0.23.0 in d:\\coding\\python\\lib\\site-packages (from langsmith>=0.1.17->langchain) (0.23.0)\n",
      "Requirement already satisfied: anyio in d:\\coding\\python\\lib\\site-packages (from httpx<1,>=0.23.0->langsmith>=0.1.17->langchain) (4.8.0)\n",
      "Requirement already satisfied: httpcore==1.* in d:\\coding\\python\\lib\\site-packages (from httpx<1,>=0.23.0->langsmith>=0.1.17->langchain) (1.0.7)\n",
      "Requirement already satisfied: h11<0.15,>=0.13 in d:\\coding\\python\\lib\\site-packages (from httpcore==1.*->httpx<1,>=0.23.0->langsmith>=0.1.17->langchain) (0.14.0)\n",
      "Requirement already satisfied: sniffio>=1.1 in d:\\coding\\python\\lib\\site-packages (from anyio->httpx<1,>=0.23.0->langsmith>=0.1.17->langchain) (1.3.1)\n"
     ]
    },
    {
     "name": "stderr",
     "output_type": "stream",
     "text": [
      "\n",
      "[notice] A new release of pip is available: 25.1.1 -> 25.2\n",
      "[notice] To update, run: python.exe -m pip install --upgrade pip\n"
     ]
    }
   ],
   "source": [
    "!pip install langchain"
   ]
  },
  {
   "cell_type": "code",
   "execution_count": 2,
   "id": "642b071a-f961-4f4f-ad8c-b52cf59dbe5f",
   "metadata": {},
   "outputs": [],
   "source": [
    "from langchain_community.document_loaders import UnstructuredPDFLoader\n",
    "from langchain_community.document_loaders import OnlinePDFLoader"
   ]
  },
  {
   "cell_type": "code",
   "execution_count": 3,
   "id": "1a2f3721-5a71-46d4-bedf-62d9beecd19a",
   "metadata": {},
   "outputs": [
    {
     "name": "stdout",
     "output_type": "stream",
     "text": [
      "Warning: No languages specified, defaulting to English.\n",
      "Warning: No languages specified, defaulting to English.\n",
      "Warning: No languages specified, defaulting to English.\n",
      "Warning: No languages specified, defaulting to English.\n",
      "Warning: No languages specified, defaulting to English.\n",
      "Total documents loaded: 5\n"
     ]
    }
   ],
   "source": [
    "local_path = [\"1.pdf\", \"2.pdf\", \"3.pdf\", \"4.pdf\", \"5.pdf\"]\n",
    "all_docs = []\n",
    "\n",
    "if local_path:\n",
    "    for path in local_path:\n",
    "        loader = UnstructuredPDFLoader(file_path=path)\n",
    "        data = loader.load()\n",
    "        all_docs.extend(data)\n",
    "\n",
    "    print(f\"Total documents loaded: {len(all_docs)}\")\n",
    "else:\n",
    "    print(\"PDF file not uploaded\")"
   ]
  },
  {
   "cell_type": "code",
   "execution_count": 4,
   "id": "2bc3b9d5-ff48-4931-8c91-1384e611eb03",
   "metadata": {},
   "outputs": [],
   "source": [
    "#all_docs[0].page_content"
   ]
  },
  {
   "cell_type": "markdown",
   "id": "75fe3d8c-b3a3-43cb-b392-2d08cff7ddc7",
   "metadata": {},
   "source": [
    "Vector Embeddings"
   ]
  },
  {
   "cell_type": "code",
   "execution_count": 5,
   "id": "b35cee57-beb7-4b50-836d-6a6faa8ff89c",
   "metadata": {},
   "outputs": [
    {
     "name": "stderr",
     "output_type": "stream",
     "text": [
      "\u001b[?2026h\u001b[?25l\u001b[1Gpulling manifest â ‹ \u001b[K\u001b[?25h\u001b[?2026l\u001b[?2026h\u001b[?25l\u001b[1Gpulling manifest â ™ \u001b[K\u001b[?25h\u001b[?2026l\u001b[?2026h\u001b[?25l\u001b[1Gpulling manifest â ¹ \u001b[K\u001b[?25h\u001b[?2026l\u001b[?2026h\u001b[?25l\u001b[1Gpulling manifest â ¸ \u001b[K\u001b[?25h\u001b[?2026l\u001b[?2026h\u001b[?25l\u001b[1Gpulling manifest â ¼ \u001b[K\u001b[?25h\u001b[?2026l\u001b[?2026h\u001b[?25l\u001b[1Gpulling manifest â ´ \u001b[K\u001b[?25h\u001b[?2026l\u001b[?2026h\u001b[?25l\u001b[1Gpulling manifest â ¦ \u001b[K\u001b[?25h\u001b[?2026l\u001b[?2026h\u001b[?25l\u001b[1Gpulling manifest â § \u001b[K\u001b[?25h\u001b[?2026l\u001b[?2026h\u001b[?25l\u001b[1Gpulling manifest â ‡ \u001b[K\u001b[?25h\u001b[?2026l\u001b[?2026h\u001b[?25l\u001b[1Gpulling manifest â � \u001b[K\u001b[?25h\u001b[?2026l\u001b[?2026h\u001b[?25l\u001b[1Gpulling manifest â ‹ \u001b[K\u001b[?25h\u001b[?2026l\u001b[?2026h\u001b[?25l\u001b[1Gpulling manifest â ™ \u001b[K\u001b[?25h\u001b[?2026l\u001b[?2026h\u001b[?25l\u001b[1Gpulling manifest â ¹ \u001b[K\u001b[?25h\u001b[?2026l\u001b[?2026h\u001b[?25l\u001b[1Gpulling manifest â ¸ \u001b[K\u001b[?25h\u001b[?2026l\u001b[?2026h\u001b[?25l\u001b[1Gpulling manifest \u001b[K\n",
      "pulling 819c2adf5ce6: 100% â–•â–ˆâ–ˆâ–ˆâ–ˆâ–ˆâ–ˆâ–ˆâ–ˆâ–ˆâ–ˆâ–ˆâ–ˆâ–ˆâ–ˆâ–ˆâ–ˆâ–ˆâ–ˆâ–� 669 MB                         \u001b[K\n",
      "pulling c71d239df917: 100% â–•â–ˆâ–ˆâ–ˆâ–ˆâ–ˆâ–ˆâ–ˆâ–ˆâ–ˆâ–ˆâ–ˆâ–ˆâ–ˆâ–ˆâ–ˆâ–ˆâ–ˆâ–ˆâ–�  11 KB                         \u001b[K\n",
      "pulling b837481ff855: 100% â–•â–ˆâ–ˆâ–ˆâ–ˆâ–ˆâ–ˆâ–ˆâ–ˆâ–ˆâ–ˆâ–ˆâ–ˆâ–ˆâ–ˆâ–ˆâ–ˆâ–ˆâ–ˆâ–�   16 B                         \u001b[K\n",
      "pulling 38badd946f91: 100% â–•â–ˆâ–ˆâ–ˆâ–ˆâ–ˆâ–ˆâ–ˆâ–ˆâ–ˆâ–ˆâ–ˆâ–ˆâ–ˆâ–ˆâ–ˆâ–ˆâ–ˆâ–ˆâ–�  408 B                         \u001b[K\n",
      "verifying sha256 digest \u001b[K\n",
      "writing manifest \u001b[K\n",
      "success \u001b[K\u001b[?25h\u001b[?2026l\n"
     ]
    }
   ],
   "source": [
    "!ollama pull mxbai-embed-large"
   ]
  },
  {
   "cell_type": "code",
   "execution_count": 6,
   "id": "8c9a7eaf-f703-41bc-8bf0-6912d9dad052",
   "metadata": {},
   "outputs": [
    {
     "name": "stdout",
     "output_type": "stream",
     "text": [
      "NAME                        ID              SIZE      MODIFIED               \n",
      "mxbai-embed-large:latest    468836162de7    669 MB    Less than a second ago    \n",
      "llama3.2:latest             a80c4f17acd5    2.0 GB    2 weeks ago               \n"
     ]
    }
   ],
   "source": [
    "!ollama list"
   ]
  },
  {
   "cell_type": "code",
   "execution_count": 7,
   "id": "2a70476f-bec7-48e8-9e4c-eb04a34dcfa0",
   "metadata": {},
   "outputs": [],
   "source": [
    "from langchain_community.embeddings import OllamaEmbeddings\n",
    "from langchain_text_splitters import RecursiveCharacterTextSplitter\n",
    "from langchain_community.vectorstores import Chroma"
   ]
  },
  {
   "cell_type": "code",
   "execution_count": 8,
   "id": "80b4a05e-5d06-4c99-95bc-5a75834f7a37",
   "metadata": {},
   "outputs": [],
   "source": [
    "#Split and chunk\n",
    "text_splitter = RecursiveCharacterTextSplitter(chunk_size = 7500, chunk_overlap = 100)\n",
    "chunks = text_splitter.split_documents(all_docs)"
   ]
  },
  {
   "cell_type": "code",
   "execution_count": 9,
   "id": "1495cbed-6ced-49a7-83ee-fb2e40206377",
   "metadata": {},
   "outputs": [
    {
     "name": "stderr",
     "output_type": "stream",
     "text": [
      "C:\\Users\\Prathamesh Deshpande\\AppData\\Local\\Temp\\ipykernel_22288\\1946191501.py:4: LangChainDeprecationWarning: The class `OllamaEmbeddings` was deprecated in LangChain 0.3.1 and will be removed in 1.0.0. An updated version of the class exists in the :class:`~langchain-ollama package and should be used instead. To use it run `pip install -U :class:`~langchain-ollama` and import as `from :class:`~langchain_ollama import OllamaEmbeddings``.\n",
      "  embedding = OllamaEmbeddings(model = \"mxbai-embed-large\", show_progress = True),\n",
      "OllamaEmbeddings: 100%|██████████████████████████████████████████████████████████████| 110/110 [04:13<00:00,  2.31s/it]\n"
     ]
    }
   ],
   "source": [
    "#Add to vector database\n",
    "vector_db = Chroma.from_documents(\n",
    "    documents = chunks,\n",
    "    embedding = OllamaEmbeddings(model = \"mxbai-embed-large\", show_progress = True),\n",
    "    collection_name = \"local-rag\"\n",
    ")"
   ]
  },
  {
   "cell_type": "markdown",
   "id": "6784fbfc-b7d3-4a88-9648-7a8e9dd33fd7",
   "metadata": {},
   "source": [
    "Retrieval"
   ]
  },
  {
   "cell_type": "code",
   "execution_count": 10,
   "id": "7126a7b8-95c9-43c7-a728-8808bf694741",
   "metadata": {
    "scrolled": true
   },
   "outputs": [
    {
     "name": "stdout",
     "output_type": "stream",
     "text": [
      "Requirement already satisfied: langchain-ollama in d:\\coding\\python\\lib\\site-packages (0.3.6)\n",
      "Requirement already satisfied: ollama<1.0.0,>=0.5.1 in d:\\coding\\python\\lib\\site-packages (from langchain-ollama) (0.5.1)\n",
      "Requirement already satisfied: langchain-core<1.0.0,>=0.3.70 in d:\\coding\\python\\lib\\site-packages (from langchain-ollama) (0.3.72)\n",
      "Requirement already satisfied: langsmith>=0.3.45 in d:\\coding\\python\\lib\\site-packages (from langchain-core<1.0.0,>=0.3.70->langchain-ollama) (0.4.7)\n",
      "Requirement already satisfied: tenacity!=8.4.0,<10.0.0,>=8.1.0 in d:\\coding\\python\\lib\\site-packages (from langchain-core<1.0.0,>=0.3.70->langchain-ollama) (9.1.2)\n",
      "Requirement already satisfied: jsonpatch<2.0,>=1.33 in d:\\coding\\python\\lib\\site-packages (from langchain-core<1.0.0,>=0.3.70->langchain-ollama) (1.33)\n",
      "Requirement already satisfied: PyYAML>=5.3 in d:\\coding\\python\\lib\\site-packages (from langchain-core<1.0.0,>=0.3.70->langchain-ollama) (6.0.2)\n",
      "Requirement already satisfied: typing-extensions>=4.7 in d:\\coding\\python\\lib\\site-packages (from langchain-core<1.0.0,>=0.3.70->langchain-ollama) (4.12.2)\n",
      "Requirement already satisfied: packaging>=23.2 in d:\\coding\\python\\lib\\site-packages (from langchain-core<1.0.0,>=0.3.70->langchain-ollama) (24.2)\n",
      "Requirement already satisfied: pydantic>=2.7.4 in d:\\coding\\python\\lib\\site-packages (from langchain-core<1.0.0,>=0.3.70->langchain-ollama) (2.11.7)\n",
      "Requirement already satisfied: jsonpointer>=1.9 in d:\\coding\\python\\lib\\site-packages (from jsonpatch<2.0,>=1.33->langchain-core<1.0.0,>=0.3.70->langchain-ollama) (3.0.0)\n",
      "Requirement already satisfied: httpx>=0.27 in d:\\coding\\python\\lib\\site-packages (from ollama<1.0.0,>=0.5.1->langchain-ollama) (0.28.1)\n",
      "Requirement already satisfied: anyio in d:\\coding\\python\\lib\\site-packages (from httpx>=0.27->ollama<1.0.0,>=0.5.1->langchain-ollama) (4.8.0)\n",
      "Requirement already satisfied: certifi in d:\\coding\\python\\lib\\site-packages (from httpx>=0.27->ollama<1.0.0,>=0.5.1->langchain-ollama) (2025.1.31)\n",
      "Requirement already satisfied: httpcore==1.* in d:\\coding\\python\\lib\\site-packages (from httpx>=0.27->ollama<1.0.0,>=0.5.1->langchain-ollama) (1.0.7)\n",
      "Requirement already satisfied: idna in d:\\coding\\python\\lib\\site-packages (from httpx>=0.27->ollama<1.0.0,>=0.5.1->langchain-ollama) (3.10)\n",
      "Requirement already satisfied: h11<0.15,>=0.13 in d:\\coding\\python\\lib\\site-packages (from httpcore==1.*->httpx>=0.27->ollama<1.0.0,>=0.5.1->langchain-ollama) (0.14.0)\n",
      "Requirement already satisfied: orjson<4.0.0,>=3.9.14 in d:\\coding\\python\\lib\\site-packages (from langsmith>=0.3.45->langchain-core<1.0.0,>=0.3.70->langchain-ollama) (3.11.0)\n",
      "Requirement already satisfied: requests<3,>=2 in d:\\coding\\python\\lib\\site-packages (from langsmith>=0.3.45->langchain-core<1.0.0,>=0.3.70->langchain-ollama) (2.32.3)\n",
      "Requirement already satisfied: requests-toolbelt<2.0.0,>=1.0.0 in d:\\coding\\python\\lib\\site-packages (from langsmith>=0.3.45->langchain-core<1.0.0,>=0.3.70->langchain-ollama) (1.0.0)\n",
      "Requirement already satisfied: zstandard<0.24.0,>=0.23.0 in d:\\coding\\python\\lib\\site-packages (from langsmith>=0.3.45->langchain-core<1.0.0,>=0.3.70->langchain-ollama) (0.23.0)\n",
      "Requirement already satisfied: annotated-types>=0.6.0 in d:\\coding\\python\\lib\\site-packages (from pydantic>=2.7.4->langchain-core<1.0.0,>=0.3.70->langchain-ollama) (0.7.0)\n",
      "Requirement already satisfied: pydantic-core==2.33.2 in d:\\coding\\python\\lib\\site-packages (from pydantic>=2.7.4->langchain-core<1.0.0,>=0.3.70->langchain-ollama) (2.33.2)\n",
      "Requirement already satisfied: typing-inspection>=0.4.0 in d:\\coding\\python\\lib\\site-packages (from pydantic>=2.7.4->langchain-core<1.0.0,>=0.3.70->langchain-ollama) (0.4.1)\n",
      "Requirement already satisfied: charset-normalizer<4,>=2 in d:\\coding\\python\\lib\\site-packages (from requests<3,>=2->langsmith>=0.3.45->langchain-core<1.0.0,>=0.3.70->langchain-ollama) (3.4.1)\n",
      "Requirement already satisfied: urllib3<3,>=1.21.1 in d:\\coding\\python\\lib\\site-packages (from requests<3,>=2->langsmith>=0.3.45->langchain-core<1.0.0,>=0.3.70->langchain-ollama) (2.3.0)\n",
      "Requirement already satisfied: sniffio>=1.1 in d:\\coding\\python\\lib\\site-packages (from anyio->httpx>=0.27->ollama<1.0.0,>=0.5.1->langchain-ollama) (1.3.1)\n"
     ]
    },
    {
     "name": "stderr",
     "output_type": "stream",
     "text": [
      "\n",
      "[notice] A new release of pip is available: 25.1.1 -> 25.2\n",
      "[notice] To update, run: python.exe -m pip install --upgrade pip\n"
     ]
    }
   ],
   "source": [
    "!pip install -U langchain-ollama"
   ]
  },
  {
   "cell_type": "code",
   "execution_count": 11,
   "id": "167fd237-e2e0-4942-be98-53e9b08f5e5b",
   "metadata": {},
   "outputs": [],
   "source": [
    "from langchain.prompts import ChatPromptTemplate, PromptTemplate\n",
    "from langchain_core.output_parsers import StrOutputParser\n",
    "from langchain_ollama import ChatOllama\n",
    "from langchain_core.runnables import RunnablePassthrough\n",
    "from langchain.retrievers.multi_query import MultiQueryRetriever"
   ]
  },
  {
   "cell_type": "code",
   "execution_count": 12,
   "id": "f9d7a417-530f-4c05-bceb-1cad35e0054d",
   "metadata": {},
   "outputs": [],
   "source": [
    "#LLM from Ollama\n",
    "local_model = \"llama3.2\"\n",
    "llm = ChatOllama(model=local_model)"
   ]
  },
  {
   "cell_type": "code",
   "execution_count": 32,
   "id": "70e04b1b-3b83-4f58-bffb-5b4fc9e2b831",
   "metadata": {},
   "outputs": [],
   "source": [
    "QUERY_PROMPT = PromptTemplate(\n",
    "    input_variables=[\"question\"],\n",
    "    template=\"\"\"You are an AI assistant who only answers based on the given context. You are supposed to identify the validity of an insurance policy given these conditions, give answer in no more than 100 characters: \n",
    "    Original question: {question}\"\"\"\n",
    ")"
   ]
  },
  {
   "cell_type": "code",
   "execution_count": 54,
   "id": "ac4df09b-db6d-4e72-bde6-c6eaf189c71d",
   "metadata": {},
   "outputs": [],
   "source": [
    "retriever = MultiQueryRetriever.from_llm(\n",
    "    vector_db.as_retriever(),\n",
    "    llm,\n",
    "    prompt=QUERY_PROMPT\n",
    ")\n",
    "\n",
    "#RAG prompt\n",
    "template = \"\"\"\n",
    "You are an insurance assistant. Based only on the context below, answer the user's question in **exactly one short sentence**, and respond strictly in this JSON format:\n",
    "\n",
    "{{\n",
    "  \"answer\": \"<your short answer here>\"\n",
    "}}\n",
    "\n",
    "Context:\n",
    "{context}\n",
    "\n",
    "Question: {question}\n",
    "\"\"\"\n",
    "\n",
    "\n",
    "prompt = ChatPromptTemplate.from_template(template)"
   ]
  },
  {
   "cell_type": "code",
   "execution_count": 55,
   "id": "33682e35-d245-48a6-89ac-e862e98e9788",
   "metadata": {},
   "outputs": [],
   "source": [
    "chain = (\n",
    "    {\"context\": retriever, \"question\": RunnablePassthrough()}\n",
    "    | prompt\n",
    "    | llm\n",
    "    | StrOutputParser()\n",
    ")"
   ]
  },
  {
   "cell_type": "code",
   "execution_count": 56,
   "id": "133036c2-c5be-4a77-b178-0540a8ecb3df",
   "metadata": {},
   "outputs": [
    {
     "data": {
      "text/plain": [
       "MultiQueryRetriever(retriever=VectorStoreRetriever(tags=['Chroma', 'OllamaEmbeddings'], vectorstore=<langchain_community.vectorstores.chroma.Chroma object at 0x000002564D8416A0>, search_kwargs={}), llm_chain=PromptTemplate(input_variables=['question'], input_types={}, partial_variables={}, template='You are an AI assistant who only answers based on the given context. You are supposed to identify the validity of an insurance policy given these conditions, give answer in no more than 100 characters: \\n    Original question: {question}')\n",
       "| ChatOllama(model='llama3.2')\n",
       "| LineListOutputParser())"
      ]
     },
     "execution_count": 56,
     "metadata": {},
     "output_type": "execute_result"
    }
   ],
   "source": [
    "retriever"
   ]
  },
  {
   "cell_type": "code",
   "execution_count": 73,
   "id": "db51fe11-2da6-4ec6-87c4-c2ba9de1a181",
   "metadata": {},
   "outputs": [],
   "source": [
    "prompt = \"46M, knee surgery, Pune, 3-month policy\""
   ]
  },
  {
   "cell_type": "code",
   "execution_count": 86,
   "id": "719b9963-a422-4fb5-a24e-5df1daf4d985",
   "metadata": {},
   "outputs": [],
   "source": [
    "back_prompt = \"Output only one line, which starts with yes or no, which is the verdict. Explain your reasoning\""
   ]
  },
  {
   "cell_type": "code",
   "execution_count": 87,
   "id": "fc701ccd-a865-40ca-8f15-4765d3d25c6d",
   "metadata": {},
   "outputs": [
    {
     "name": "stderr",
     "output_type": "stream",
     "text": [
      "OllamaEmbeddings: 100%|██████████████████████████████████████████████████████████████████| 1/1 [00:02<00:00,  2.13s/it]\n"
     ]
    },
    {
     "data": {
      "text/plain": [
       "'Yes. The policy mentions a rider for knee surgery, and M has undergone knee surgery within the coverage period of 3 months, so it is likely that the policy will be paid out.'"
      ]
     },
     "execution_count": 87,
     "metadata": {},
     "output_type": "execute_result"
    }
   ],
   "source": [
    "chain.invoke(prompt + back_prompt)"
   ]
  },
  {
   "cell_type": "code",
   "execution_count": null,
   "id": "bf0a5674-c363-479b-a272-dd4365ffa3a6",
   "metadata": {},
   "outputs": [],
   "source": []
  },
  {
   "cell_type": "code",
   "execution_count": null,
   "id": "843550f0-d916-467f-888c-b629a8440d41",
   "metadata": {},
   "outputs": [],
   "source": []
  }
 ],
 "metadata": {
  "kernelspec": {
   "display_name": "Python 3 (ipykernel)",
   "language": "python",
   "name": "python3"
  },
  "language_info": {
   "codemirror_mode": {
    "name": "ipython",
    "version": 3
   },
   "file_extension": ".py",
   "mimetype": "text/x-python",
   "name": "python",
   "nbconvert_exporter": "python",
   "pygments_lexer": "ipython3",
   "version": "3.13.2"
  }
 },
 "nbformat": 4,
 "nbformat_minor": 5
}
